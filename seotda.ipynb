{
 "cells": [
  {
   "cell_type": "code",
   "execution_count": 286,
   "id": "4189b681-d376-4e7b-9dc3-403599f6c8f6",
   "metadata": {},
   "outputs": [],
   "source": [
    "import random\n",
    "from typing import List, Iterator, Callable, Tuple\n",
    "\n",
    "class Card: \n",
    "    def __init__(self, month : int, is_gwang : bool = False, is_yul : bool = False) :\n",
    "        self.month = month\n",
    "        self.is_gwang = is_gwang\n",
    "        self.is_yul = is_yul\n",
    "        \n",
    "    def show(self) -> str:\n",
    "        if self.is_gwang:\n",
    "            return f\"{self.month}월 Gwang\"\n",
    "        if self.is_yul:\n",
    "            return f\"{self.month}월 Yul\"\n",
    "        return f\"{self.month}월\"\n",
    "\n",
    "class Deck:\n",
    "    def __init__(self):\n",
    "        self.init_deck()\n",
    "\n",
    "    def __iter__(self) -> Iterator[Card]:\n",
    "        return iter(self.deck)\n",
    "        \n",
    "    def __len__(self) -> int:\n",
    "        return len(self.deck)\n",
    "        \n",
    "    def show(self) -> List[str]:\n",
    "        return [i.show() for i in self.deck]\n",
    "\n",
    "    def init_deck(self) -> List[Card]:\n",
    "        self.deck : List[Card] = [\n",
    "            Card(1, is_gwang=True), Card(1), Card(1), Card(1), \n",
    "            Card(2, is_yul = True), Card(2), Card(2), Card(2),\n",
    "            Card(3, is_gwang=True), Card(3), Card(3), Card(3),\n",
    "            Card(4, is_yul = True), Card(4), Card(4), Card(4),\n",
    "            Card(5, is_yul = True), Card(5), Card(5), Card(5),\n",
    "            Card(6, is_yul=True), Card(6), Card(6), Card(6),\n",
    "            Card(7, is_yul=True), Card(7), Card(7), Card(7),\n",
    "            Card(8, is_gwang=True), Card(8, is_yul = True), Card(8), Card(8),\n",
    "            Card(9, is_yul=True), Card(9), Card(9), Card(9),\n",
    "            Card(10, is_yul=True), Card(10), Card(10), Card(10)\n",
    "        ]\n",
    "        return self.deck\n",
    "\n",
    "    def reset(self):\n",
    "        self.deck = self.init_deck()\n",
    "\n",
    "    def shuffle(self) -> None:\n",
    "        random.shuffle(self.deck)\n",
    "\n",
    "    def draw(self, n : int = 1) -> List[Card]:\n",
    "        # 카드중 하나를 비복원 추출\n",
    "        if n > len(self.deck):\n",
    "            raise ValueError(\"덱에 카드가 부족합니다.\")\n",
    "        drawn = self.deck[:n]\n",
    "        self.deck = self.deck[n:]\n",
    "        return drawn\n",
    "\n",
    "class Player:\n",
    "    def __init__(self, name: str):\n",
    "        self.name: str = name\n",
    "        self.hand: List[Card] = []  # 두 장의 카드\n",
    "        self.is_ready: bool = False\n",
    "        self.result = None\n",
    "        self.score = None  # 족보 점수 (비교용)\n",
    "\n",
    "    def __repr__(self) -> str:\n",
    "        return f\"<Player {self.name}, Hand: {self.hand}>\"\n",
    "\n",
    "    def receive_card(self, cards: Card) -> None:\n",
    "        # 카드 2장을 받는다.\n",
    "        if len(self.hand) == 2 :\n",
    "            self.hand: List[Card] = []\n",
    "            self.hand.extend(cards)\n",
    "        else :\n",
    "            self.hand.extend(cards)\n",
    "\n",
    "    def reset(self) -> None:\n",
    "        # 새 라운드를 위한 초기화\n",
    "        self.hand.clear()\n",
    "        self.result = ('', 0)\n",
    "        self.is_ready = False\n",
    "        self.score = None\n",
    "\n",
    "    \n",
    "\n",
    "class GameRoom:\n",
    "    def __init__(self, room_name: str,  jokbo : list, max_players: int = 4):\n",
    "        self.room_name: str = room_name\n",
    "        self.max_players: int = max_players\n",
    "        self.players: List[Player] = []\n",
    "        self.deck = Deck()\n",
    "        self.started: bool = False\n",
    "        self.jokbo = jokbo\n",
    "\n",
    "    def add_player(self, player: Player) -> None:\n",
    "        if len(self.players) >= self.max_players:\n",
    "            raise Exception(\"플레이어 수 초과\")\n",
    "        self.players.append(player)\n",
    "\n",
    "    def start_game(self, is_regame = False, is_test = False) -> None:\n",
    "        self.deck.reset()\n",
    "        self.deck.shuffle()\n",
    "        if is_test :\n",
    "            pass  \n",
    "        elif is_regame:\n",
    "            for i in range(2): # 플레이어 카드 분배 (한장씩 두바퀴)\n",
    "                for player in self.players:\n",
    "                    player.receive_card(self.deck.draw()) \n",
    "        else :\n",
    "            if len(self.players) < 4:\n",
    "                raise Exception(\"플레이어가 부족합니다.\")\n",
    "            for i in range(2): # 플레이어 카드 분배 (한장씩 두바퀴)\n",
    "                for player in self.players:\n",
    "                    player.receive_card(self.deck.draw())\n",
    "        self.started = True     \n",
    "        self.calculate()   \n",
    "        return self.show_all_result(), self.get_winner()\n",
    "                \n",
    "    def calculate(self) -> None:   \n",
    "        for player in self.players:\n",
    "            player.result = None \n",
    "            player.hand.sort(key=lambda card: card.month)      \n",
    "            # 땡, 광땡, 중간족보, 특수족보\n",
    "            for idx, hand in enumerate(self.jokbo) :\n",
    "                if hand['condition'](player.hand[0], player.hand[1]):\n",
    "                    if hand['name'] == \"땡\" :\n",
    "                        if (player.hand[0].month + player.hand[0].month) == 20 : # 10땡은 장땡으로 변경\n",
    "                            player.result = [\"장땡\", player.hand[0].month + hand['score']]\n",
    "                            break\n",
    "                        else :\n",
    "                            player.result = [\"땡\", player.hand[0].month + hand['score']]\n",
    "                            break\n",
    "                    else :\n",
    "                        player.result = [hand['name'], hand['score']]\n",
    "                        break\n",
    "                        \n",
    "            # 족보에 속하지 않는 경우 : n끗\n",
    "            if not player.result : \n",
    "                player.result = [\"끗\", (player.hand[0].month + player.hand[1].month) % 10]\n",
    "                \n",
    "            # 어떤 족보에도 속하지 않는경우\n",
    "            elif not player.result :\n",
    "                raise Exception(\"점수계산에 오류가 발생했습니다\")\n",
    "\n",
    "    def get_winner(self):\n",
    "        player_result = [p.result[0] for p in self.players]\n",
    "        sorted_players = sorted( self.players, key=lambda p: p.result[1], reverse=True)\n",
    "        if \"암행어사\" in player_result and set(player_result) & set([\"일삼광땡\", \"일팔광땡\"]):\n",
    "            self.players[player_result.index(\"암행어사\")].result[1] = 1200\n",
    "                    \n",
    "        if \"땡잡이\" in player_result and \"땡\" in player_result :\n",
    "            self.players[player_result.index(\"땡잡이\")].result[1] = 110\n",
    "        \n",
    "        if \"멍텅구리 구사\" in player_result and sorted_players[0].result[1] <= 109 :\n",
    "            return self.start_game(is_regame=True)\n",
    "            \n",
    "        if \"구사\" in player_result and sorted_players[0].result[1] <= 15 :\n",
    "            return self.start_game(is_regame=True)\n",
    "\n",
    "        # 특수 규칙 계산 이후 다시 정렬\n",
    "        sorted_players = sorted(\n",
    "            self.players,\n",
    "            key=lambda p: p.result[1],\n",
    "            reverse=True\n",
    "        )\n",
    "        \n",
    "        # 동점 발생시 게임 재시작\n",
    "        winner = sorted_players[0]\n",
    "        regame_player = []\n",
    "        for p in sorted_players:\n",
    "            if winner.result[1] == p.result[1] :\n",
    "                regame_player.append(p)\n",
    "\n",
    "        if len(regame_player) > 1 :\n",
    "            self.players = regame_player\n",
    "            return self.start_game(is_regame=True)\n",
    "   \n",
    "        else : \n",
    "            return f\"{winner.name} 우승\"\n",
    "\n",
    "    def reset_all_game(self) -> None:\n",
    "        self.deck.reset()\n",
    "        for player in self.players:\n",
    "            player.reset()\n",
    "        self.started = False\n",
    "    \n",
    "    def show_all_hands(self):\n",
    "        return {player.name: [card.show() for card in player.hand] for player in self.players}\n",
    "\n",
    "    def show_all_result(self):\n",
    "        return {player.name: player.result for player in self.players}      "
   ]
  },
  {
   "cell_type": "code",
   "execution_count": 310,
   "id": "b5a34480-67c4-476b-90a1-16f1c4f216df",
   "metadata": {},
   "outputs": [],
   "source": [
    "jokbo = [\n",
    "    {\"name\": \"일삼광땡\", \"condition\": lambda c1, c2: [c1.month, c2.month] == [1,3] and c1.is_gwang and c2.is_gwang, \"score\" : 1000},\n",
    "    {\"name\": \"일팔광땡\", \"condition\": lambda c1, c2: [c1.month, c2.month] == [1,8] and c1.is_gwang and c2.is_gwang, \"score\" : 1100},\n",
    "    {\"name\": \"삼팔광땡\", \"condition\": lambda c1, c2: [c1.month, c2.month] == [3,8] and c1.is_gwang and c2.is_gwang, \"score\" : 1300},\n",
    "    \n",
    "    {\"name\": \"암행어사\", \"condition\": lambda c1, c2: [c1.month, c2.month] == [4,7] and (c1.is_yul and c2.is_yul), \"score\" : 1},\n",
    "    {\"name\": \"땡잡이\", \"condition\": lambda c1, c2: [c1.month, c2.month] == [3,7] and (c1.is_gwang and c2.is_yul), \"score\" : 0}, # +110\n",
    "    {\"name\": \"멍텅구리 구사\", \"condition\": lambda c1, c2: [c1.month, c2.month] == [4, 9] and (c1.is_yul and c2.is_yul), \"score\" : 3}, # 구땡이하 재경기 +110\n",
    "    {\"name\": \"구사\", \"condition\": lambda c1, c2: [c1.month, c2.month] == [4, 9] and not(c1.is_yul and c2.is_yul), \"score\" : 3}, # 알리 이하 재시작\n",
    "    \n",
    "    {\"name\": \"갑오\", \"condition\": lambda c1, c2: (c1.month + c2.month) % 10 == 9, \"score\" : 9},\n",
    "    {\"name\": \"세륙\", \"condition\": lambda c1, c2: [c1.month, c2.month] == [4, 6], \"score\" : 10},\n",
    "    {\"name\": \"장사\", \"condition\": lambda c1, c2: [c1.month, c2.month] == [4, 10], \"score\" : 11},\n",
    "    {\"name\": \"장삥\", \"condition\": lambda c1, c2: [c1.month, c2.month] == [1, 10], \"score\" : 12},\n",
    "    {\"name\": \"구삥\", \"condition\": lambda c1, c2: [c1.month, c2.month] == [1, 9], \"score\" : 13},\n",
    "    {\"name\": \"독사\", \"condition\": lambda c1, c2: [c1.month, c2.month] == [1, 4], \"score\" : 14},\n",
    "    {\"name\": \"알리\", \"condition\": lambda c1, c2: [c1.month, c2.month] == [1, 2], \"score\" : 15},\n",
    "    {\"name\": \"망통\", \"condition\": lambda c1, c2: (c1.month + c2.month) % 10 == 0, \"score\" : 0},\n",
    "    \n",
    "    {\"name\": \"땡\", \"condition\": lambda c1, c2: c1.month == c2.month, \"score\" : 100}, # 장땡 구현하기\n",
    "]\n"
   ]
  },
  {
   "cell_type": "code",
   "execution_count": 288,
   "id": "ceb390e1-76f9-4ad3-bc94-d422141c76b0",
   "metadata": {},
   "outputs": [
    {
     "data": {
      "text/plain": [
       "({'p1': ['암행어사', 1200],\n",
       "  'p2': ['일삼광땡', 1000],\n",
       "  'p3': ['망통', 0],\n",
       "  'p4': ['망통', 0]},\n",
       " 'p1 우승')"
      ]
     },
     "execution_count": 288,
     "metadata": {},
     "output_type": "execute_result"
    }
   ],
   "source": [
    "# TC01\n",
    "\n",
    "deck = Deck()\n",
    "game = GameRoom(\"방1\", jokbo=jokbo)\n",
    "\n",
    "# 플레이어 추가\n",
    "player1 = Player(\"p1\")\n",
    "player1.receive_card([Card(4, is_yul=True)])\n",
    "player1.receive_card([Card(7, is_yul=True)])\n",
    "player2 = Player(\"p2\")\n",
    "player2.receive_card([Card(1, is_gwang=True)])\n",
    "player2.receive_card([Card(3, is_gwang=True)])\n",
    "player3 = Player(\"p3\")\n",
    "player3.receive_card([Card(3)])\n",
    "player3.receive_card([Card(7)])\n",
    "player4 = Player(\"p4\")\n",
    "player4.receive_card([Card(3)])\n",
    "player4.receive_card([Card(7)])\n",
    "\n",
    "game.add_player(player1)\n",
    "game.add_player(player2)\n",
    "game.add_player(player3)\n",
    "game.add_player(player4)\n",
    "\n",
    "game.start_game(is_test=True)"
   ]
  },
  {
   "cell_type": "code",
   "execution_count": 289,
   "id": "d6db1af6-5eb2-4761-9f79-d45916bf019c",
   "metadata": {},
   "outputs": [
    {
     "data": {
      "text/plain": [
       "({'p1': ['암행어사', 1], 'p2': ['삼팔광땡', 1300], 'p3': ['망통', 0], 'p4': ['망통', 0]},\n",
       " 'p2 우승')"
      ]
     },
     "execution_count": 289,
     "metadata": {},
     "output_type": "execute_result"
    }
   ],
   "source": [
    "# TC02\n",
    "\n",
    "deck = Deck()\n",
    "game = GameRoom(\"방1\", jokbo=jokbo)\n",
    "\n",
    "# 플레이어 추가\n",
    "player1 = Player(\"p1\")\n",
    "player1.receive_card([Card(4, is_yul=True)])\n",
    "player1.receive_card([Card(7, is_yul=True)])\n",
    "player2 = Player(\"p2\")\n",
    "player2.receive_card([Card(3, is_gwang=True)])\n",
    "player2.receive_card([Card(8, is_gwang=True)])\n",
    "player3 = Player(\"p3\")\n",
    "player3.receive_card([Card(3)])\n",
    "player3.receive_card([Card(7)])\n",
    "player4 = Player(\"p4\")\n",
    "player4.receive_card([Card(3)])\n",
    "player4.receive_card([Card(7)])\n",
    "\n",
    "game.add_player(player1)\n",
    "game.add_player(player2)\n",
    "game.add_player(player3)\n",
    "game.add_player(player4)\n",
    "\n",
    "game.start_game(is_test=True)"
   ]
  },
  {
   "cell_type": "code",
   "execution_count": 290,
   "id": "7f1582a3-169a-45ae-a331-7f9aae4616fc",
   "metadata": {},
   "outputs": [
    {
     "data": {
      "text/plain": [
       "({'p1': ['암행어사', 1], 'p2': ['땡잡이', 110], 'p3': ['땡', 109], 'p4': ['망통', 0]},\n",
       " 'p2 우승')"
      ]
     },
     "execution_count": 290,
     "metadata": {},
     "output_type": "execute_result"
    }
   ],
   "source": [
    "# TC03\n",
    "\n",
    "deck = Deck()\n",
    "game = GameRoom(\"방1\", jokbo=jokbo)\n",
    "\n",
    "# 플레이어 추가\n",
    "player1 = Player(\"p1\")\n",
    "player1.receive_card([Card(4, is_yul=True)])\n",
    "player1.receive_card([Card(7, is_yul=True)])\n",
    "player2 = Player(\"p2\")\n",
    "player2.receive_card([Card(3, is_gwang=True)])\n",
    "player2.receive_card([Card(7, is_yul=True)])\n",
    "player3 = Player(\"p3\")\n",
    "player3.receive_card([Card(9)])\n",
    "player3.receive_card([Card(9)])\n",
    "player4 = Player(\"p4\")\n",
    "player4.receive_card([Card(3)])\n",
    "player4.receive_card([Card(7)])\n",
    "\n",
    "game.add_player(player1)\n",
    "game.add_player(player2)\n",
    "game.add_player(player3)\n",
    "game.add_player(player4)\n",
    "\n",
    "game.start_game(is_test=True)"
   ]
  },
  {
   "cell_type": "code",
   "execution_count": 291,
   "id": "b7aaff75-a447-41cd-bb52-0f09b1cf345a",
   "metadata": {},
   "outputs": [
    {
     "data": {
      "text/plain": [
       "({'p1': ['암행어사', 1], 'p2': ['땡잡이', 0], 'p3': ['망통', 0], 'p4': ['망통', 0]},\n",
       " 'p1 우승')"
      ]
     },
     "execution_count": 291,
     "metadata": {},
     "output_type": "execute_result"
    }
   ],
   "source": [
    "# TC04\n",
    "\n",
    "deck = Deck()\n",
    "game = GameRoom(\"방1\", jokbo=jokbo)\n",
    "\n",
    "# 플레이어 추가\n",
    "player1 = Player(\"p1\")\n",
    "player1.receive_card([Card(4, is_yul=True)])\n",
    "player1.receive_card([Card(7, is_yul=True)])\n",
    "player2 = Player(\"p2\")\n",
    "player2.receive_card([Card(3, is_gwang=True)])\n",
    "player2.receive_card([Card(7, is_yul=True)])\n",
    "player3 = Player(\"p3\")\n",
    "player3.receive_card([Card(3)])\n",
    "player3.receive_card([Card(7)])\n",
    "player4 = Player(\"p4\")\n",
    "player4.receive_card([Card(3)])\n",
    "player4.receive_card([Card(7)])\n",
    "\n",
    "game.add_player(player1)\n",
    "game.add_player(player2)\n",
    "game.add_player(player3)\n",
    "game.add_player(player4)\n",
    "\n",
    "game.start_game(is_test=True)"
   ]
  },
  {
   "cell_type": "code",
   "execution_count": 292,
   "id": "37700afa-062b-411b-aab0-ae5ee961e4f5",
   "metadata": {},
   "outputs": [
    {
     "data": {
      "text/plain": [
       "({'p1': ['암행어사', 1200],\n",
       "  'p2': ['땡잡이', 0],\n",
       "  'p3': ['멍텅구리 구사', 3],\n",
       "  'p4': ['일팔광땡', 1100]},\n",
       " 'p1 우승')"
      ]
     },
     "execution_count": 292,
     "metadata": {},
     "output_type": "execute_result"
    }
   ],
   "source": [
    "# TC05\n",
    "\n",
    "deck = Deck()\n",
    "game = GameRoom(\"방1\", jokbo=jokbo)\n",
    "\n",
    "# 플레이어 추가\n",
    "player1 = Player(\"p1\")\n",
    "player1.receive_card([Card(4, is_yul=True)])\n",
    "player1.receive_card([Card(7, is_yul=True)])\n",
    "player2 = Player(\"p2\")\n",
    "player2.receive_card([Card(3, is_gwang=True)])\n",
    "player2.receive_card([Card(7, is_yul=True)])\n",
    "player3 = Player(\"p3\")\n",
    "player3.receive_card([Card(4, is_yul=True)])\n",
    "player3.receive_card([Card(9, is_yul=True)])\n",
    "player4 = Player(\"p4\")\n",
    "player4.receive_card([Card(1, is_gwang=True)])\n",
    "player4.receive_card([Card(8, is_gwang=True)])\n",
    "\n",
    "game.add_player(player1)\n",
    "game.add_player(player2)\n",
    "game.add_player(player3)\n",
    "game.add_player(player4)\n",
    "\n",
    "game.start_game(is_test=True)"
   ]
  },
  {
   "cell_type": "code",
   "execution_count": 294,
   "id": "4d2751c9-492b-48de-97ca-8b23c1d2054b",
   "metadata": {},
   "outputs": [
    {
     "data": {
      "text/plain": [
       "({'p1': ['암행어사', 1],\n",
       "  'p2': ['땡잡이', 110],\n",
       "  'p3': ['멍텅구리 구사', 3],\n",
       "  'p4': ['땡', 109]},\n",
       " ({'p1': ['끗', 4], 'p2': ['독사', 14], 'p3': ['끗', 3], 'p4': ['땡', 103]},\n",
       "  'p4 우승'))"
      ]
     },
     "execution_count": 294,
     "metadata": {},
     "output_type": "execute_result"
    }
   ],
   "source": [
    "# TC06\n",
    "\n",
    "deck = Deck()\n",
    "game = GameRoom(\"방1\", jokbo=jokbo)\n",
    "\n",
    "# 플레이어 추가\n",
    "player1 = Player(\"p1\")\n",
    "player1.receive_card([Card(4, is_yul=True)])\n",
    "player1.receive_card([Card(7, is_yul=True)])\n",
    "player2 = Player(\"p2\")\n",
    "player2.receive_card([Card(3, is_gwang=True)])\n",
    "player2.receive_card([Card(7, is_yul=True)])\n",
    "player3 = Player(\"p3\")\n",
    "player3.receive_card([Card(4, is_yul=True)])\n",
    "player3.receive_card([Card(9, is_yul=True)])\n",
    "player4 = Player(\"p4\")\n",
    "player4.receive_card([Card(9)])\n",
    "player4.receive_card([Card(9)])\n",
    "\n",
    "game.add_player(player1)\n",
    "game.add_player(player2)\n",
    "game.add_player(player3)\n",
    "game.add_player(player4)\n",
    "\n",
    "game.start_game(is_test=True)"
   ]
  },
  {
   "cell_type": "code",
   "execution_count": 295,
   "id": "69ff6451-13dc-4304-ba8f-6a78d30ef4ca",
   "metadata": {},
   "outputs": [
    {
     "data": {
      "text/plain": [
       "({'p1': ['암행어사', 1], 'p2': ['땡잡이', 0], 'p3': ['멍텅구리 구사', 3], 'p4': ['알리', 15]},\n",
       " ({'p1': ['땡', 109], 'p2': ['끗', 4], 'p3': ['갑오', 9], 'p4': ['끗', 2]},\n",
       "  'p1 우승'))"
      ]
     },
     "execution_count": 295,
     "metadata": {},
     "output_type": "execute_result"
    }
   ],
   "source": [
    "# TC07\n",
    "\n",
    "deck = Deck()\n",
    "game = GameRoom(\"방1\", jokbo=jokbo)\n",
    "\n",
    "# 플레이어 추가\n",
    "player1 = Player(\"p1\")\n",
    "player1.receive_card([Card(4, is_yul=True)])\n",
    "player1.receive_card([Card(7, is_yul=True)])\n",
    "player2 = Player(\"p2\")\n",
    "player2.receive_card([Card(3, is_gwang=True)])\n",
    "player2.receive_card([Card(7, is_yul=True)])\n",
    "player3 = Player(\"p3\")\n",
    "player3.receive_card([Card(4, is_yul=True)])\n",
    "player3.receive_card([Card(9, is_yul=True)])\n",
    "player4 = Player(\"p4\")\n",
    "player4.receive_card([Card(1)])\n",
    "player4.receive_card([Card(2)])\n",
    "\n",
    "game.add_player(player1)\n",
    "game.add_player(player2)\n",
    "game.add_player(player3)\n",
    "game.add_player(player4)\n",
    "\n",
    "game.start_game(is_test=True)"
   ]
  },
  {
   "cell_type": "code",
   "execution_count": 296,
   "id": "e1c3739e-1bb3-4ead-a199-96469bf6145b",
   "metadata": {},
   "outputs": [
    {
     "data": {
      "text/plain": [
       "({'p1': ['암행어사', 1200],\n",
       "  'p2': ['멍텅구리 구사', 3],\n",
       "  'p3': ['일팔광땡', 1100],\n",
       "  'p4': ['알리', 15]},\n",
       " 'p1 우승')"
      ]
     },
     "execution_count": 296,
     "metadata": {},
     "output_type": "execute_result"
    }
   ],
   "source": [
    "# TC08\n",
    "\n",
    "deck = Deck()\n",
    "game = GameRoom(\"방1\", jokbo=jokbo)\n",
    "\n",
    "# 플레이어 추가\n",
    "player1 = Player(\"p1\")\n",
    "player1.receive_card([Card(4, is_yul=True)])\n",
    "player1.receive_card([Card(7, is_yul=True)])\n",
    "player2 = Player(\"p2\")\n",
    "player2.receive_card([Card(4, is_yul=True)])\n",
    "player2.receive_card([Card(9, is_yul=True)])\n",
    "player3 = Player(\"p3\")\n",
    "player3.receive_card([Card(1, is_gwang=True)])\n",
    "player3.receive_card([Card(8, is_gwang=True)])\n",
    "player4 = Player(\"p4\")\n",
    "player4.receive_card([Card(1)])\n",
    "player4.receive_card([Card(2)])\n",
    "\n",
    "game.add_player(player1)\n",
    "game.add_player(player2)\n",
    "game.add_player(player3)\n",
    "game.add_player(player4)\n",
    "\n",
    "game.start_game(is_test=True)"
   ]
  },
  {
   "cell_type": "code",
   "execution_count": 297,
   "id": "ca28538e-3195-4372-bc03-21ad463ef380",
   "metadata": {},
   "outputs": [
    {
     "data": {
      "text/plain": [
       "({'p1': ['암행어사', 1], 'p2': ['멍텅구리 구사', 3], 'p3': ['땡', 109], 'p4': ['알리', 15]},\n",
       " ({'p1': ['끗', 8], 'p2': ['끗', 7], 'p3': ['끗', 8], 'p4': ['갑오', 9]}, 'p4 우승'))"
      ]
     },
     "execution_count": 297,
     "metadata": {},
     "output_type": "execute_result"
    }
   ],
   "source": [
    "# TC09\n",
    "\n",
    "deck = Deck()\n",
    "game = GameRoom(\"방1\", jokbo=jokbo)\n",
    "\n",
    "# 플레이어 추가\n",
    "player1 = Player(\"p1\")\n",
    "player1.receive_card([Card(4, is_yul=True)])\n",
    "player1.receive_card([Card(7, is_yul=True)])\n",
    "player2 = Player(\"p2\")\n",
    "player2.receive_card([Card(4, is_yul=True)])\n",
    "player2.receive_card([Card(9, is_yul=True)])\n",
    "player3 = Player(\"p3\")\n",
    "player3.receive_card([Card(9)])\n",
    "player3.receive_card([Card(9)])\n",
    "player4 = Player(\"p4\")\n",
    "player4.receive_card([Card(1)])\n",
    "player4.receive_card([Card(2)])\n",
    "\n",
    "game.add_player(player1)\n",
    "game.add_player(player2)\n",
    "game.add_player(player3)\n",
    "game.add_player(player4)\n",
    "\n",
    "game.start_game(is_test=True)"
   ]
  },
  {
   "cell_type": "code",
   "execution_count": 298,
   "id": "fe483d23-a9eb-4d2e-b8e8-2efd88f0c94d",
   "metadata": {},
   "outputs": [
    {
     "data": {
      "text/plain": [
       "({'p1': ['암행어사', 1200],\n",
       "  'p2': ['멍텅구리 구사', 3],\n",
       "  'p3': ['구사', 3],\n",
       "  'p4': ['일팔광땡', 1100]},\n",
       " 'p1 우승')"
      ]
     },
     "execution_count": 298,
     "metadata": {},
     "output_type": "execute_result"
    }
   ],
   "source": [
    "# TC10\n",
    "\n",
    "deck = Deck()\n",
    "game = GameRoom(\"방1\", jokbo=jokbo)\n",
    "\n",
    "# 플레이어 추가\n",
    "player1 = Player(\"p1\")\n",
    "player1.receive_card([Card(4, is_yul=True)])\n",
    "player1.receive_card([Card(7, is_yul=True)])\n",
    "player2 = Player(\"p2\")\n",
    "player2.receive_card([Card(4, is_yul=True)])\n",
    "player2.receive_card([Card(9, is_yul=True)])\n",
    "player3 = Player(\"p3\")\n",
    "player3.receive_card([Card(9)])\n",
    "player3.receive_card([Card(4)])\n",
    "player4 = Player(\"p4\")\n",
    "player4.receive_card([Card(1, is_gwang=True)])\n",
    "player4.receive_card([Card(8, is_gwang=True)])\n",
    "\n",
    "game.add_player(player1)\n",
    "game.add_player(player2)\n",
    "game.add_player(player3)\n",
    "game.add_player(player4)\n",
    "\n",
    "game.start_game(is_test=True)"
   ]
  },
  {
   "cell_type": "code",
   "execution_count": 301,
   "id": "410dab5e-0af7-4513-908c-0595a3c82918",
   "metadata": {},
   "outputs": [
    {
     "data": {
      "text/plain": [
       "({'p1': ['암행어사', 1], 'p2': ['멍텅구리 구사', 3], 'p3': ['구사', 3], 'p4': ['땡', 109]},\n",
       " ({'p1': ['끗', 2], 'p2': ['갑오', 9], 'p3': ['끗', 6], 'p4': ['끗', 2]}, 'p2 우승'))"
      ]
     },
     "execution_count": 301,
     "metadata": {},
     "output_type": "execute_result"
    }
   ],
   "source": [
    "# TC11\n",
    "\n",
    "deck = Deck()\n",
    "game = GameRoom(\"방1\", jokbo=jokbo)\n",
    "\n",
    "# 플레이어 추가\n",
    "player1 = Player(\"p1\")\n",
    "player1.receive_card([Card(4, is_yul=True)])\n",
    "player1.receive_card([Card(7, is_yul=True)])\n",
    "player2 = Player(\"p2\")\n",
    "player2.receive_card([Card(4, is_yul=True)])\n",
    "player2.receive_card([Card(9, is_yul=True)])\n",
    "player3 = Player(\"p3\")\n",
    "player3.receive_card([Card(9)])\n",
    "player3.receive_card([Card(4)])\n",
    "player4 = Player(\"p4\")\n",
    "player4.receive_card([Card(9)])\n",
    "player4.receive_card([Card(9)])\n",
    "\n",
    "game.add_player(player1)\n",
    "game.add_player(player2)\n",
    "game.add_player(player3)\n",
    "game.add_player(player4)\n",
    "\n",
    "game.start_game(is_test=True)"
   ]
  },
  {
   "cell_type": "code",
   "execution_count": 304,
   "id": "a5a02e64-466a-4fc0-b108-f736f29272aa",
   "metadata": {},
   "outputs": [
    {
     "data": {
      "text/plain": [
       "({'p1': ['암행어사', 1], 'p2': ['멍텅구리 구사', 3], 'p3': ['구사', 3], 'p4': ['알리', 15]},\n",
       " ({'p1': ['망통', 0], 'p2': ['끗', 2], 'p3': ['끗', 4], 'p4': ['끗', 1]}, 'p3 우승'))"
      ]
     },
     "execution_count": 304,
     "metadata": {},
     "output_type": "execute_result"
    }
   ],
   "source": [
    "# TC12\n",
    "\n",
    "deck = Deck()\n",
    "game = GameRoom(\"방1\", jokbo=jokbo)\n",
    "\n",
    "# 플레이어 추가\n",
    "player1 = Player(\"p1\")\n",
    "player1.receive_card([Card(4, is_yul=True)])\n",
    "player1.receive_card([Card(7, is_yul=True)])\n",
    "player2 = Player(\"p2\")\n",
    "player2.receive_card([Card(4, is_yul=True)])\n",
    "player2.receive_card([Card(9, is_yul=True)])\n",
    "player3 = Player(\"p3\")\n",
    "player3.receive_card([Card(9)])\n",
    "player3.receive_card([Card(4)])\n",
    "player4 = Player(\"p4\")\n",
    "player4.receive_card([Card(1)])\n",
    "player4.receive_card([Card(2)])\n",
    "\n",
    "game.add_player(player1)\n",
    "game.add_player(player2)\n",
    "game.add_player(player3)\n",
    "game.add_player(player4)\n",
    "\n",
    "game.start_game(is_test=True)"
   ]
  },
  {
   "cell_type": "code",
   "execution_count": 305,
   "id": "279be836-42ef-46a9-b11b-67d00dec4111",
   "metadata": {},
   "outputs": [
    {
     "data": {
      "text/plain": [
       "({'p1': ['암행어사', 1200],\n",
       "  'p2': ['구사', 3],\n",
       "  'p3': ['일팔광땡', 1100],\n",
       "  'p4': ['알리', 15]},\n",
       " 'p1 우승')"
      ]
     },
     "execution_count": 305,
     "metadata": {},
     "output_type": "execute_result"
    }
   ],
   "source": [
    "# TC13\n",
    "\n",
    "deck = Deck()\n",
    "game = GameRoom(\"방1\", jokbo=jokbo)\n",
    "\n",
    "# 플레이어 추가\n",
    "player1 = Player(\"p1\")\n",
    "player1.receive_card([Card(4, is_yul=True)])\n",
    "player1.receive_card([Card(7, is_yul=True)])\n",
    "player2 = Player(\"p2\")\n",
    "player2.receive_card([Card(4)])\n",
    "player2.receive_card([Card(9)])\n",
    "player3 = Player(\"p3\")\n",
    "player3.receive_card([Card(1, is_gwang=True)])\n",
    "player3.receive_card([Card(8, is_gwang=True)])\n",
    "player4 = Player(\"p4\")\n",
    "player4.receive_card([Card(1)])\n",
    "player4.receive_card([Card(2)])\n",
    "\n",
    "game.add_player(player1)\n",
    "game.add_player(player2)\n",
    "game.add_player(player3)\n",
    "game.add_player(player4)\n",
    "\n",
    "game.start_game(is_test=True)"
   ]
  },
  {
   "cell_type": "code",
   "execution_count": 306,
   "id": "3e13d7be-5940-4ecf-8b67-ad6f05539238",
   "metadata": {},
   "outputs": [
    {
     "data": {
      "text/plain": [
       "({'p1': ['암행어사', 1], 'p2': ['구사', 3], 'p3': ['알리', 15], 'p4': ['알리', 15]},\n",
       " ({'p1': ['끗', 6], 'p2': ['갑오', 9], 'p3': ['알리', 15], 'p4': ['갑오', 9]},\n",
       "  'p3 우승'))"
      ]
     },
     "execution_count": 306,
     "metadata": {},
     "output_type": "execute_result"
    }
   ],
   "source": [
    "# TC14\n",
    "\n",
    "deck = Deck()\n",
    "game = GameRoom(\"방1\", jokbo=jokbo)\n",
    "\n",
    "# 플레이어 추가\n",
    "player1 = Player(\"p1\")\n",
    "player1.receive_card([Card(4, is_yul=True)])\n",
    "player1.receive_card([Card(7, is_yul=True)])\n",
    "player2 = Player(\"p2\")\n",
    "player2.receive_card([Card(4)])\n",
    "player2.receive_card([Card(9)])\n",
    "player3 = Player(\"p3\")\n",
    "player3.receive_card([Card(1)])\n",
    "player3.receive_card([Card(2)])\n",
    "player4 = Player(\"p4\")\n",
    "player4.receive_card([Card(1)])\n",
    "player4.receive_card([Card(2)])\n",
    "\n",
    "game.add_player(player1)\n",
    "game.add_player(player2)\n",
    "game.add_player(player3)\n",
    "game.add_player(player4)\n",
    "\n",
    "game.start_game(is_test=True)"
   ]
  },
  {
   "cell_type": "code",
   "execution_count": 307,
   "id": "0eaec38d-7a52-4e26-ace7-b2dea22769b4",
   "metadata": {},
   "outputs": [
    {
     "data": {
      "text/plain": [
       "({'p1': ['땡잡이', 110], 'p2': ['땡', 109], 'p3': ['알리', 15], 'p4': ['알리', 15]},\n",
       " 'p1 우승')"
      ]
     },
     "execution_count": 307,
     "metadata": {},
     "output_type": "execute_result"
    }
   ],
   "source": [
    "# TC15\n",
    "\n",
    "deck = Deck()\n",
    "game = GameRoom(\"방1\", jokbo=jokbo)\n",
    "\n",
    "# 플레이어 추가\n",
    "player1 = Player(\"p1\")\n",
    "player1.receive_card([Card(3, is_gwang=True)])\n",
    "player1.receive_card([Card(7, is_yul=True)])\n",
    "player2 = Player(\"p2\")\n",
    "player2.receive_card([Card(9)])\n",
    "player2.receive_card([Card(9)])\n",
    "player3 = Player(\"p3\")\n",
    "player3.receive_card([Card(1)])\n",
    "player3.receive_card([Card(2)])\n",
    "player4 = Player(\"p4\")\n",
    "player4.receive_card([Card(1)])\n",
    "player4.receive_card([Card(2)])\n",
    "\n",
    "game.add_player(player1)\n",
    "game.add_player(player2)\n",
    "game.add_player(player3)\n",
    "game.add_player(player4)\n",
    "\n",
    "game.start_game(is_test=True)"
   ]
  },
  {
   "cell_type": "code",
   "execution_count": 311,
   "id": "7d164e3f-6cb1-42a7-b563-de0354abf293",
   "metadata": {},
   "outputs": [
    {
     "data": {
      "text/plain": [
       "({'p1': ['땡잡이', 0], 'p2': ['알리', 15], 'p3': ['독사', 14], 'p4': ['구삥', 13]},\n",
       " 'p2 우승')"
      ]
     },
     "execution_count": 311,
     "metadata": {},
     "output_type": "execute_result"
    }
   ],
   "source": [
    "# TC16\n",
    "\n",
    "deck = Deck()\n",
    "game = GameRoom(\"방1\", jokbo=jokbo)\n",
    "\n",
    "# 플레이어 추가\n",
    "player1 = Player(\"p1\")\n",
    "player1.receive_card([Card(3, is_gwang=True)])\n",
    "player1.receive_card([Card(7, is_yul=True)])\n",
    "player2 = Player(\"p2\")\n",
    "player2.receive_card([Card(1)])\n",
    "player2.receive_card([Card(2)])\n",
    "player3 = Player(\"p3\")\n",
    "player3.receive_card([Card(1)])\n",
    "player3.receive_card([Card(4)])\n",
    "player4 = Player(\"p4\")\n",
    "player4.receive_card([Card(1)])\n",
    "player4.receive_card([Card(9)])\n",
    "\n",
    "game.add_player(player1)\n",
    "game.add_player(player2)\n",
    "game.add_player(player3)\n",
    "game.add_player(player4)\n",
    "\n",
    "game.start_game(is_test=True)"
   ]
  },
  {
   "cell_type": "code",
   "execution_count": 312,
   "id": "11aefeec-7f96-4f96-a6e5-edcbe46bde82",
   "metadata": {},
   "outputs": [
    {
     "data": {
      "text/plain": [
       "({'p1': ['땡잡이', 110],\n",
       "  'p2': ['멍텅구리 구사', 3],\n",
       "  'p3': ['땡', 109],\n",
       "  'p4': ['알리', 15]},\n",
       " ({'p1': ['독사', 14], 'p2': ['끗', 2], 'p3': ['끗', 6], 'p4': ['끗', 5]}, 'p1 우승'))"
      ]
     },
     "execution_count": 312,
     "metadata": {},
     "output_type": "execute_result"
    }
   ],
   "source": [
    "# TC17\n",
    "\n",
    "deck = Deck()\n",
    "game = GameRoom(\"방1\", jokbo=jokbo)\n",
    "\n",
    "# 플레이어 추가\n",
    "player1 = Player(\"p1\")\n",
    "player1.receive_card([Card(3, is_gwang=True)])\n",
    "player1.receive_card([Card(7, is_yul=True)])\n",
    "player2 = Player(\"p2\")\n",
    "player2.receive_card([Card(4, is_yul=True)])\n",
    "player2.receive_card([Card(9, is_yul=True)])\n",
    "player3 = Player(\"p3\")\n",
    "player3.receive_card([Card(9)])\n",
    "player3.receive_card([Card(9)])\n",
    "player4 = Player(\"p4\")\n",
    "player4.receive_card([Card(1)])\n",
    "player4.receive_card([Card(2)])\n",
    "\n",
    "game.add_player(player1)\n",
    "game.add_player(player2)\n",
    "game.add_player(player3)\n",
    "game.add_player(player4)\n",
    "\n",
    "game.start_game(is_test=True)"
   ]
  },
  {
   "cell_type": "code",
   "execution_count": 313,
   "id": "cd946dc9-92ee-4393-a2df-7daf07c2faab",
   "metadata": {},
   "outputs": [
    {
     "data": {
      "text/plain": [
       "({'p1': ['땡잡이', 0], 'p2': ['멍텅구리 구사', 3], 'p3': ['알리', 15], 'p4': ['알리', 15]},\n",
       " ({'p1': ['갑오', 9], 'p2': ['끗', 7], 'p3': ['끗', 6], 'p4': ['끗', 7]}, 'p1 우승'))"
      ]
     },
     "execution_count": 313,
     "metadata": {},
     "output_type": "execute_result"
    }
   ],
   "source": [
    "# TC18\n",
    "\n",
    "deck = Deck()\n",
    "game = GameRoom(\"방1\", jokbo=jokbo)\n",
    "\n",
    "# 플레이어 추가\n",
    "player1 = Player(\"p1\")\n",
    "player1.receive_card([Card(3, is_gwang=True)])\n",
    "player1.receive_card([Card(7, is_yul=True)])\n",
    "player2 = Player(\"p2\")\n",
    "player2.receive_card([Card(4, is_yul=True)])\n",
    "player2.receive_card([Card(9, is_yul=True)])\n",
    "player3 = Player(\"p3\")\n",
    "player3.receive_card([Card(1)])\n",
    "player3.receive_card([Card(2)])\n",
    "player4 = Player(\"p4\")\n",
    "player4.receive_card([Card(1)])\n",
    "player4.receive_card([Card(2)])\n",
    "\n",
    "game.add_player(player1)\n",
    "game.add_player(player2)\n",
    "game.add_player(player3)\n",
    "game.add_player(player4)\n",
    "\n",
    "game.start_game(is_test=True)"
   ]
  },
  {
   "cell_type": "code",
   "execution_count": 314,
   "id": "269d5c15-d190-4f39-a5c3-6dc959a1e66d",
   "metadata": {},
   "outputs": [
    {
     "data": {
      "text/plain": [
       "({'p1': ['땡잡이', 110], 'p2': ['멍텅구리 구사', 3], 'p3': ['구사', 3], 'p4': ['땡', 109]},\n",
       " ({'p1': ['끗', 4], 'p2': ['끗', 4], 'p3': ['끗', 6], 'p4': ['갑오', 9]}, 'p4 우승'))"
      ]
     },
     "execution_count": 314,
     "metadata": {},
     "output_type": "execute_result"
    }
   ],
   "source": [
    "# TC19\n",
    "\n",
    "deck = Deck()\n",
    "game = GameRoom(\"방1\", jokbo=jokbo)\n",
    "\n",
    "# 플레이어 추가\n",
    "player1 = Player(\"p1\")\n",
    "player1.receive_card([Card(3, is_gwang=True)])\n",
    "player1.receive_card([Card(7, is_yul=True)])\n",
    "player2 = Player(\"p2\")\n",
    "player2.receive_card([Card(4, is_yul=True)])\n",
    "player2.receive_card([Card(9, is_yul=True)])\n",
    "player3 = Player(\"p3\")\n",
    "player3.receive_card([Card(4)])\n",
    "player3.receive_card([Card(9)])\n",
    "player4 = Player(\"p4\")\n",
    "player4.receive_card([Card(9)])\n",
    "player4.receive_card([Card(9)])\n",
    "\n",
    "game.add_player(player1)\n",
    "game.add_player(player2)\n",
    "game.add_player(player3)\n",
    "game.add_player(player4)\n",
    "\n",
    "game.start_game(is_test=True)"
   ]
  },
  {
   "cell_type": "code",
   "execution_count": 315,
   "id": "8a6fdd3f-6cca-4f57-89c1-dedc4674a03f",
   "metadata": {},
   "outputs": [
    {
     "data": {
      "text/plain": [
       "({'p1': ['땡잡이', 0], 'p2': ['멍텅구리 구사', 3], 'p3': ['구사', 3], 'p4': ['알리', 15]},\n",
       " ({'p1': ['끗', 6], 'p2': ['갑오', 9], 'p3': ['끗', 5], 'p4': ['장삥', 12]},\n",
       "  'p4 우승'))"
      ]
     },
     "execution_count": 315,
     "metadata": {},
     "output_type": "execute_result"
    }
   ],
   "source": [
    "# TC20\n",
    "\n",
    "deck = Deck()\n",
    "game = GameRoom(\"방1\", jokbo=jokbo)\n",
    "\n",
    "# 플레이어 추가\n",
    "player1 = Player(\"p1\")\n",
    "player1.receive_card([Card(3, is_gwang=True)])\n",
    "player1.receive_card([Card(7, is_yul=True)])\n",
    "player2 = Player(\"p2\")\n",
    "player2.receive_card([Card(4, is_yul=True)])\n",
    "player2.receive_card([Card(9, is_yul=True)])\n",
    "player3 = Player(\"p3\")\n",
    "player3.receive_card([Card(4)])\n",
    "player3.receive_card([Card(9)])\n",
    "player4 = Player(\"p4\")\n",
    "player4.receive_card([Card(1)])\n",
    "player4.receive_card([Card(2)])\n",
    "\n",
    "game.add_player(player1)\n",
    "game.add_player(player2)\n",
    "game.add_player(player3)\n",
    "game.add_player(player4)\n",
    "\n",
    "game.start_game(is_test=True)"
   ]
  },
  {
   "cell_type": "code",
   "execution_count": 316,
   "id": "a7d4b0db-61e7-414f-987d-f0d8172aae98",
   "metadata": {},
   "outputs": [
    {
     "data": {
      "text/plain": [
       "({'p1': ['멍텅구리 구사', 3], 'p2': ['땡', 109], 'p3': ['알리', 15], 'p4': ['알리', 15]},\n",
       " ({'p1': ['땡', 101], 'p2': ['끗', 1], 'p3': ['끗', 1], 'p4': ['끗', 8]}, 'p1 우승'))"
      ]
     },
     "execution_count": 316,
     "metadata": {},
     "output_type": "execute_result"
    }
   ],
   "source": [
    "# TC21\n",
    "\n",
    "deck = Deck()\n",
    "game = GameRoom(\"방1\", jokbo=jokbo)\n",
    "\n",
    "# 플레이어 추가\n",
    "player1 = Player(\"p1\")\n",
    "player1.receive_card([Card(4, is_yul=True)])\n",
    "player1.receive_card([Card(9, is_yul=True)])\n",
    "player2 = Player(\"p2\")\n",
    "player2.receive_card([Card(9)])\n",
    "player2.receive_card([Card(9)])\n",
    "player3 = Player(\"p3\")\n",
    "player3.receive_card([Card(1)])\n",
    "player3.receive_card([Card(2)])\n",
    "player4 = Player(\"p4\")\n",
    "player4.receive_card([Card(1)])\n",
    "player4.receive_card([Card(2)])\n",
    "\n",
    "game.add_player(player1)\n",
    "game.add_player(player2)\n",
    "game.add_player(player3)\n",
    "game.add_player(player4)\n",
    "\n",
    "game.start_game(is_test=True)"
   ]
  },
  {
   "cell_type": "code",
   "execution_count": 317,
   "id": "557e5257-efff-46cb-a3d9-6579c68b5314",
   "metadata": {},
   "outputs": [
    {
     "data": {
      "text/plain": [
       "({'p1': ['멍텅구리 구사', 3],\n",
       "  'p2': ['삼팔광땡', 1300],\n",
       "  'p3': ['알리', 15],\n",
       "  'p4': ['알리', 15]},\n",
       " 'p2 우승')"
      ]
     },
     "execution_count": 317,
     "metadata": {},
     "output_type": "execute_result"
    }
   ],
   "source": [
    "# TC22\n",
    "\n",
    "deck = Deck()\n",
    "game = GameRoom(\"방1\", jokbo=jokbo)\n",
    "\n",
    "# 플레이어 추가\n",
    "player1 = Player(\"p1\")\n",
    "player1.receive_card([Card(4, is_yul=True)])\n",
    "player1.receive_card([Card(9, is_yul=True)])\n",
    "player2 = Player(\"p2\")\n",
    "player2.receive_card([Card(3, is_gwang=True)])\n",
    "player2.receive_card([Card(8, is_gwang=True)])\n",
    "player3 = Player(\"p3\")\n",
    "player3.receive_card([Card(1)])\n",
    "player3.receive_card([Card(2)])\n",
    "player4 = Player(\"p4\")\n",
    "player4.receive_card([Card(1)])\n",
    "player4.receive_card([Card(2)])\n",
    "\n",
    "game.add_player(player1)\n",
    "game.add_player(player2)\n",
    "game.add_player(player3)\n",
    "game.add_player(player4)\n",
    "\n",
    "game.start_game(is_test=True)"
   ]
  },
  {
   "cell_type": "code",
   "execution_count": 318,
   "id": "71391c51-82f9-40b7-a47e-fb054db084fd",
   "metadata": {},
   "outputs": [
    {
     "data": {
      "text/plain": [
       "({'p1': ['멍텅구리 구사', 3], 'p2': ['구사', 3], 'p3': ['땡', 109], 'p4': ['땡', 108]},\n",
       " ({'p1': ['끗', 3], 'p2': ['끗', 8], 'p3': ['세륙', 10], 'p4': ['끗', 7]}, 'p3 우승'))"
      ]
     },
     "execution_count": 318,
     "metadata": {},
     "output_type": "execute_result"
    }
   ],
   "source": [
    "# TC23\n",
    "\n",
    "deck = Deck()\n",
    "game = GameRoom(\"방1\", jokbo=jokbo)\n",
    "\n",
    "# 플레이어 추가\n",
    "player1 = Player(\"p1\")\n",
    "player1.receive_card([Card(4, is_yul=True)])\n",
    "player1.receive_card([Card(9, is_yul=True)])\n",
    "player2 = Player(\"p2\")\n",
    "player2.receive_card([Card(4)])\n",
    "player2.receive_card([Card(9)])\n",
    "player3 = Player(\"p3\")\n",
    "player3.receive_card([Card(9)])\n",
    "player3.receive_card([Card(9)])\n",
    "player4 = Player(\"p4\")\n",
    "player4.receive_card([Card(8)])\n",
    "player4.receive_card([Card(8)])\n",
    "\n",
    "game.add_player(player1)\n",
    "game.add_player(player2)\n",
    "game.add_player(player3)\n",
    "game.add_player(player4)\n",
    "\n",
    "game.start_game(is_test=True)"
   ]
  },
  {
   "cell_type": "code",
   "execution_count": 319,
   "id": "8c30e4fe-dad4-4e51-ac73-c7f44a816724",
   "metadata": {},
   "outputs": [
    {
     "data": {
      "text/plain": [
       "({'p1': ['멍텅구리 구사', 3], 'p2': ['구사', 3], 'p3': ['알리', 15], 'p4': ['알리', 15]},\n",
       " ({'p1': ['끗', 1], 'p2': ['장삥', 12], 'p3': ['땡', 103], 'p4': ['끗', 8]},\n",
       "  'p3 우승'))"
      ]
     },
     "execution_count": 319,
     "metadata": {},
     "output_type": "execute_result"
    }
   ],
   "source": [
    "# TC24\n",
    "\n",
    "deck = Deck()\n",
    "game = GameRoom(\"방1\", jokbo=jokbo)\n",
    "\n",
    "# 플레이어 추가\n",
    "player1 = Player(\"p1\")\n",
    "player1.receive_card([Card(4, is_yul=True)])\n",
    "player1.receive_card([Card(9, is_yul=True)])\n",
    "player2 = Player(\"p2\")\n",
    "player2.receive_card([Card(4)])\n",
    "player2.receive_card([Card(9)])\n",
    "player3 = Player(\"p3\")\n",
    "player3.receive_card([Card(1)])\n",
    "player3.receive_card([Card(2)])\n",
    "player4 = Player(\"p4\")\n",
    "player4.receive_card([Card(1)])\n",
    "player4.receive_card([Card(2)])\n",
    "\n",
    "game.add_player(player1)\n",
    "game.add_player(player2)\n",
    "game.add_player(player3)\n",
    "game.add_player(player4)\n",
    "\n",
    "game.start_game(is_test=True)"
   ]
  },
  {
   "cell_type": "code",
   "execution_count": 321,
   "id": "1c2bdb3d-c657-4293-9b2c-4f866c3aeace",
   "metadata": {},
   "outputs": [
    {
     "data": {
      "text/plain": [
       "({'p1': ['구사', 3], 'p2': ['알리', 15], 'p3': ['독사', 14], 'p4': ['구삥', 13]},\n",
       " ({'p1': ['끗', 6], 'p2': ['구삥', 13], 'p3': ['끗', 1], 'p4': ['장사', 11]},\n",
       "  'p2 우승'))"
      ]
     },
     "execution_count": 321,
     "metadata": {},
     "output_type": "execute_result"
    }
   ],
   "source": [
    "# TC25\n",
    "\n",
    "deck = Deck()\n",
    "game = GameRoom(\"방1\", jokbo=jokbo)\n",
    "\n",
    "# 플레이어 추가\n",
    "player1 = Player(\"p1\")\n",
    "player1.receive_card([Card(4)])\n",
    "player1.receive_card([Card(9)])\n",
    "player2 = Player(\"p2\")\n",
    "player2.receive_card([Card(1)])\n",
    "player2.receive_card([Card(2)])\n",
    "player3 = Player(\"p3\")\n",
    "player3.receive_card([Card(1)])\n",
    "player3.receive_card([Card(4)])\n",
    "player4 = Player(\"p4\")\n",
    "player4.receive_card([Card(1)])\n",
    "player4.receive_card([Card(9)])\n",
    "\n",
    "game.add_player(player1)\n",
    "game.add_player(player2)\n",
    "game.add_player(player3)\n",
    "game.add_player(player4)\n",
    "\n",
    "game.start_game(is_test=True)"
   ]
  },
  {
   "cell_type": "code",
   "execution_count": 322,
   "id": "49086f95-4e8b-4351-8069-284a7c6543e3",
   "metadata": {},
   "outputs": [
    {
     "data": {
      "text/plain": [
       "({'p1': ['구사', 3], 'p2': ['땡', 109], 'p3': ['알리', 15], 'p4': ['독사', 14]},\n",
       " 'p2 우승')"
      ]
     },
     "execution_count": 322,
     "metadata": {},
     "output_type": "execute_result"
    }
   ],
   "source": [
    "# TC26\n",
    "\n",
    "deck = Deck()\n",
    "game = GameRoom(\"방1\", jokbo=jokbo)\n",
    "\n",
    "# 플레이어 추가\n",
    "player1 = Player(\"p1\")\n",
    "player1.receive_card([Card(4)])\n",
    "player1.receive_card([Card(9)])\n",
    "player2 = Player(\"p2\")\n",
    "player2.receive_card([Card(9)])\n",
    "player2.receive_card([Card(9)])\n",
    "player3 = Player(\"p3\")\n",
    "player3.receive_card([Card(1)])\n",
    "player3.receive_card([Card(2)])\n",
    "player4 = Player(\"p4\")\n",
    "player4.receive_card([Card(1)])\n",
    "player4.receive_card([Card(4)])\n",
    "\n",
    "game.add_player(player1)\n",
    "game.add_player(player2)\n",
    "game.add_player(player3)\n",
    "game.add_player(player4)\n",
    "\n",
    "game.start_game(is_test=True)"
   ]
  },
  {
   "cell_type": "code",
   "execution_count": 323,
   "id": "3b16ceed-b837-479e-a8b1-430ea4c0236f",
   "metadata": {},
   "outputs": [
    {
     "data": {
      "text/plain": [
       "({'p1': ['구삥', 13], 'p2': ['장삥', 12], 'p3': ['알리', 15], 'p4': ['독사', 14]},\n",
       " 'p3 우승')"
      ]
     },
     "execution_count": 323,
     "metadata": {},
     "output_type": "execute_result"
    }
   ],
   "source": [
    "# TC27\n",
    "\n",
    "deck = Deck()\n",
    "game = GameRoom(\"방1\", jokbo=jokbo)\n",
    "\n",
    "# 플레이어 추가\n",
    "player1 = Player(\"p1\")\n",
    "player1.receive_card([Card(1)])\n",
    "player1.receive_card([Card(9)])\n",
    "player2 = Player(\"p2\")\n",
    "player2.receive_card([Card(1)])\n",
    "player2.receive_card([Card(10)])\n",
    "player3 = Player(\"p3\")\n",
    "player3.receive_card([Card(1)])\n",
    "player3.receive_card([Card(2)])\n",
    "player4 = Player(\"p4\")\n",
    "player4.receive_card([Card(1)])\n",
    "player4.receive_card([Card(4)])\n",
    "\n",
    "game.add_player(player1)\n",
    "game.add_player(player2)\n",
    "game.add_player(player3)\n",
    "game.add_player(player4)\n",
    "\n",
    "game.start_game(is_test=True)"
   ]
  },
  {
   "cell_type": "code",
   "execution_count": 325,
   "id": "e9df9484-8347-4504-bfc7-0349cd6ada7d",
   "metadata": {},
   "outputs": [
    {
     "data": {
      "text/plain": [
       "({'p1': ['알리', 15], 'p2': ['알리', 15], 'p3': ['독사', 14], 'p4': ['구삥', 13]},\n",
       " ({'p1': ['세륙', 10], 'p2': ['망통', 0]}, 'p1 우승'))"
      ]
     },
     "execution_count": 325,
     "metadata": {},
     "output_type": "execute_result"
    }
   ],
   "source": [
    "# TC28\n",
    "\n",
    "deck = Deck()\n",
    "game = GameRoom(\"방1\", jokbo=jokbo)\n",
    "\n",
    "# 플레이어 추가\n",
    "player1 = Player(\"p1\")\n",
    "player1.receive_card([Card(1)])\n",
    "player1.receive_card([Card(2)])\n",
    "player2 = Player(\"p2\")\n",
    "player2.receive_card([Card(1)])\n",
    "player2.receive_card([Card(2)])\n",
    "player3 = Player(\"p3\")\n",
    "player3.receive_card([Card(1)])\n",
    "player3.receive_card([Card(4)])\n",
    "player4 = Player(\"p4\")\n",
    "player4.receive_card([Card(1)])\n",
    "player4.receive_card([Card(9)])\n",
    "\n",
    "game.add_player(player1)\n",
    "game.add_player(player2)\n",
    "game.add_player(player3)\n",
    "game.add_player(player4)\n",
    "\n",
    "game.start_game(is_test=True)"
   ]
  },
  {
   "cell_type": "code",
   "execution_count": null,
   "id": "9463b465-43e9-4638-87c0-ba9e1a2efd92",
   "metadata": {},
   "outputs": [],
   "source": []
  }
 ],
 "metadata": {
  "kernelspec": {
   "display_name": "Python 3 (ipykernel)",
   "language": "python",
   "name": "python3"
  },
  "language_info": {
   "codemirror_mode": {
    "name": "ipython",
    "version": 3
   },
   "file_extension": ".py",
   "mimetype": "text/x-python",
   "name": "python",
   "nbconvert_exporter": "python",
   "pygments_lexer": "ipython3",
   "version": "3.12.9"
  }
 },
 "nbformat": 4,
 "nbformat_minor": 5
}
